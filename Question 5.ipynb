{
 "cells": [
  {
   "cell_type": "code",
   "execution_count": 5,
   "metadata": {},
   "outputs": [
    {
     "name": "stdout",
     "output_type": "stream",
     "text": [
      "Sequoia Capital 46\n",
      "Accel Partners 43\n",
      "Kalaari Capital 35\n",
      "Blume Ventures 27\n",
      "SAIF Partners 24\n"
     ]
    },
    {
     "data": {
      "image/png": "[encoded data removed]",
      "text/plain": [
       "<Figure size 432x288 with 1 Axes>"
      ]
     },
     "metadata": {
      "needs_background": "light"
     },
     "output_type": "display_data"
    }
   ],
   "source": [
    "import matplotlib.pyplot as plt\n",
    "import numpy as np\n",
    "import pandas as pd \n",
    "import csv\n",
    "#importing the libraries\n",
    "from heapq import nlargest \n",
    "#importing heapq for finding max value from the dictionary later\n",
    "file_obj=open('startup_funding.csv',encoding='utf-8')\n",
    "df=pd.read_csv(file_obj)\n",
    "\n",
    "df=df[[\"InvestorsName\",'StartupName','InvestmentType']]\n",
    "#making dataframe of required columns\n",
    "\n",
    "df[\"StartupName\"]=df[\"StartupName\"].replace('Flipkart.com','Flipkart')\n",
    "df[\"StartupName\"]=df[\"StartupName\"].replace('Olacabs','Ola')\n",
    "df[\"StartupName\"]=df[\"StartupName\"].replace('Ola Cabs','Ola')\n",
    "df[\"StartupName\"]=df[\"StartupName\"].replace('Oyo Rooms','Oyo')\n",
    "df[\"StartupName\"]=df[\"StartupName\"].replace('OyoRooms','Oyo')\n",
    "df[\"StartupName\"]=df[\"StartupName\"].replace('Oyorooms','Oyo')\n",
    "df[\"StartupName\"]=df[\"StartupName\"].replace('Paytm Marketplace','Paytm')\n",
    "df[\"InvestmentType\"]=df[\"InvestmentType\"].replace('SeedFunding','Seed Funding')\n",
    "df[\"InvestmentType\"]=df[\"InvestmentType\"].replace('PrivateEquity','Private Equity')\n",
    "df[\"InvestmentType\"]=df[\"InvestmentType\"].replace('Crowd funding','Crowd Funding')\n",
    "#replacing values where required ,for correct result\n",
    "\n",
    "\n",
    "k=df['InvestmentType']=='Private Equity'\n",
    "df1=df[k]\n",
    "#Applying the boolean conditions to df to get the investment type Private Equity.\n",
    "df1=df1[[\"StartupName\",\"InvestorsName\"]]\n",
    "#slicing data frame to just get the startupname and Investor name.\n",
    "df1.dropna(inplace=True)\n",
    "unique=df[\"StartupName\"].unique()\n",
    "#made unique array to find unique satrtup names on the basis of which we can find investor name.\n",
    "Investor=[]\n",
    "for values in unique:\n",
    "    s=set()\n",
    "    x=df1[df1[\"StartupName\"]==values][\"InvestorsName\"].values\n",
    "    #getting the value corresponding to each startupname.\n",
    "    #getting value of the all of  investor name correspoding to a single startup name at a time.\n",
    "    for investors in x:\n",
    "        xtra=investors.split(\",\")\n",
    "         #splitting differnt values of investor from each other and storing int an array\n",
    "\n",
    "        for i in xtra:\n",
    "            if i!=\"\"and i!=\"Undisclosed Investors\" and i!=\"Undisclosed investors\":#removing empty values . only non empty values will be put int the set\n",
    "\n",
    "                s.add(i.strip())#adding value in a set to avoid repetition as set adds only unique values (singe value of investor for one startup) and stripping them of extra space\n",
    "\n",
    "    for i in s:   \n",
    "        Investor.append(i)\n",
    "         #appending the final set in a list\n",
    "key=0\n",
    "d={}\n",
    "for k in Investor:\n",
    "    \n",
    "    if k in d:\n",
    "        d[k]+=1\n",
    "    else :\n",
    "        d[k]=1\n",
    " #using dictionary to find the frequency of each startup        \n",
    "Top5 = nlargest(5, d, key = d.get) \n",
    "x=[]\n",
    "y=[]\n",
    "#using nlargest method to get top 5 values from a dictionary \n",
    "for i in Top5:\n",
    "    x.append(i)\n",
    "    y.append(d.get(i))\n",
    "    print(i,d.get(i))\n",
    "plt.bar(x,y)\n",
    "plt.xticks(rotation=45)\n",
    "plt.xlabel(\"Investors\")\n",
    "plt.ylabel(\"Number of fundings\")\n",
    "plt.title(\"Investors vs number of fundings\")\n",
    "plt.show()\n",
    "#plotting a bar graph of City and its relation with number of fundings\n",
    "    "
   ]
  },
  {
   "cell_type": "code",
   "execution_count": null,
   "metadata": {},
   "outputs": [],
   "source": []
  }
 ],
 "metadata": {
  "kernelspec": {
   "display_name": "Python 3",
   "language": "python",
   "name": "python3"
  },
  "language_info": {
   "codemirror_mode": {
    "name": "ipython",
    "version": 3
   },
   "file_extension": ".py",
   "mimetype": "text/x-python",
   "name": "python",
   "nbconvert_exporter": "python",
   "pygments_lexer": "ipython3",
   "version": "3.8.3"
  }
 },
 "nbformat": 4,
 "nbformat_minor": 4
}
