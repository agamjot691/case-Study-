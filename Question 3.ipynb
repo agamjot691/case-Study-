{
 "cells": [
  {
   "cell_type": "code",
   "execution_count": 2,
   "metadata": {},
   "outputs": [
    {
     "name": "stdout",
     "output_type": "stream",
     "text": [
      "Sequoia Capital 49\n",
      "Accel Partners 47\n",
      "Kalaari Capital 41\n",
      "Indian Angel Network 40\n",
      "Blume Ventures 36\n"
     ]
    },
    {
     "data": {
      "image/png": "[encoded data removed]",
      "text/plain": [
       "<Figure size 432x288 with 1 Axes>"
      ]
     },
     "metadata": {
      "needs_background": "light"
     },
     "output_type": "display_data"
    }
   ],
   "source": [
    "import matplotlib.pyplot as plt\n",
    "import numpy as np\n",
    "import pandas as pd \n",
    "import csv\n",
    "#importing the libraries\n",
    "from heapq import nlargest\n",
    "#importing heapq for finding max value from the dictionary later\n",
    "file_obj=open('startup_funding.csv',encoding='utf-8')\n",
    "df=pd.read_csv(file_obj)\n",
    "\n",
    "df=df[[\"InvestorsName\",'StartupName']]\n",
    "#making dataframe of required columns\n",
    "df[\"StartupName\"]=df[\"StartupName\"].replace('Flipkart.com','Flipkart')\n",
    "df[\"StartupName\"]=df[\"StartupName\"].replace('Olacabs','Ola')\n",
    "df[\"StartupName\"]=df[\"StartupName\"].replace('Ola Cabs','Ola')\n",
    "df[\"StartupName\"]=df[\"StartupName\"].replace('Oyo Rooms','Oyo')\n",
    "df[\"StartupName\"]=df[\"StartupName\"].replace('OyoRooms','Oyo')\n",
    "df[\"StartupName\"]=df[\"StartupName\"].replace('Oyorooms','Oyo')\n",
    "df[\"StartupName\"]=df[\"StartupName\"].replace('Paytm Marketplace','Paytm')\n",
    "#replacing values where required ,for correct result\n",
    "df=df[[\"StartupName\",\"InvestorsName\"]]\n",
    "df.dropna(inplace=True)\n",
    "unique=df[\"StartupName\"].unique()\n",
    "#made unique array to find unique satrtup names on the basis of which we can find investor name\n",
    "Investor=[]\n",
    "for values in unique:\n",
    "    s=set()\n",
    "    \n",
    "    x=df[df[\"StartupName\"]==values][\"InvestorsName\"].values\n",
    "    #getting the value corresponding to each startupname\n",
    "    #getting value of the all of  investor name correspoding to a single startup name at a time  \n",
    "    for investors in x:\n",
    "        xtra=investors.split(\",\")\n",
    "        #splitting differnt values of investor from each other and storing int an array\n",
    "        for i in xtra:\n",
    "            if i!=\"\":#removing empty values . only non empty values will be put int the set\n",
    "                s.add(i.strip())#adding value in a set to avoid repetition as set adds only unique values (singe value of investor for one startup) and stripping them of extra space\n",
    "    for i in s:   \n",
    "        Investor.append(i)\n",
    "        #appending the final set in a list\n",
    "key=0\n",
    "d={}\n",
    "for k in Investor:\n",
    "    \n",
    "    if k in d:\n",
    "        d[k]+=1\n",
    "    else :\n",
    "        d[k]=1\n",
    "        #using dictionary to find the frequency of each startup\n",
    "Top5 = nlargest(5, d, key = d.get) \n",
    "#using nlargest method to get top 5 values from a dictionary  \n",
    "x=[]\n",
    "y=[]\n",
    "for i in Top5:\n",
    "    x.append(i)\n",
    "    y.append(d.get(i))\n",
    "    print(i,d.get(i))\n",
    "plt.bar(x,y)\n",
    "plt.xticks(rotation=45)\n",
    "plt.xlabel(\"Cities\")\n",
    "plt.ylabel(\"Number of fundings\")\n",
    "plt.title(\"City vs number of fundings\")\n",
    "plt.show()\n",
    "#plotting a bar graph of City and its relation with number of fundings\n",
    "       "
   ]
  },
  {
   "cell_type": "code",
   "execution_count": 3,
   "metadata": {},
   "outputs": [
    {
     "data": {
      "text/plain": [
       "['Sequoia Capital',\n",
       " 'Accel Partners',\n",
       " 'Kalaari Capital',\n",
       " 'Indian Angel Network',\n",
       " 'Blume Ventures']"
      ]
     },
     "execution_count": 3,
     "metadata": {},
     "output_type": "execute_result"
    }
   ],
   "source": []
  },
  {
   "cell_type": "code",
   "execution_count": null,
   "metadata": {},
   "outputs": [],
   "source": []
  }
 ],
 "metadata": {
  "kernelspec": {
   "display_name": "Python 3",
   "language": "python",
   "name": "python3"
  },
  "language_info": {
   "codemirror_mode": {
    "name": "ipython",
    "version": 3
   },
   "file_extension": ".py",
   "mimetype": "text/x-python",
   "name": "python",
   "nbconvert_exporter": "python",
   "pygments_lexer": "ipython3",
   "version": "3.8.3"
  }
 },
 "nbformat": 4,
 "nbformat_minor": 4
}
