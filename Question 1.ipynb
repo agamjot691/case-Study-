{
 "cells": [
  {
   "cell_type": "code",
   "execution_count": 3,
   "metadata": {},
   "outputs": [
    {
     "data": {
      "image/png": "[encoded data removed]",
      "text/plain": [
       "<Figure size 432x288 with 1 Axes>"
      ]
     },
     "metadata": {
      "needs_background": "light"
     },
     "output_type": "display_data"
    },
    {
     "name": "stdout",
     "output_type": "stream",
     "text": [
      "N.C.R 704\n",
      "Bangalore 635\n",
      "Mumbai 449\n",
      "Pune 91\n",
      "Hyderabad 77\n"
     ]
    }
   ],
   "source": [
    "import matplotlib.pyplot as plt\n",
    "import numpy as np\n",
    "import pandas as pd \n",
    "import csv\n",
    "#importing all the libraries\n",
    "file_obj=open('startup_funding.csv',encoding='utf-8')\n",
    "df=pd.read_csv(file_obj)\n",
    "df=df[\"CityLocation\"]\n",
    "#making a data frame\n",
    "df1=df.str.split('/',expand=True)[0]\n",
    "#using split method to get the Indian cities\n",
    "df1= df1.replace(\"Delhi\", \"New Delhi\")\n",
    "df1=df1.replace('New Delhi','N.C.R')\n",
    "df1=df1.replace('Gurgaon','N.C.R')\n",
    "df1=df1.replace('Noida','N.C.R')\n",
    "df1= df1.replace(\"bangalore\", \"Bangalore\")\n",
    "#replacing Delhi With New Delhi and banglore with Bangalore\n",
    "df1=df1.str.strip()\n",
    "#using strip to remove extra spacesfrom entry\n",
    "df6=df1.value_counts()\n",
    "#Using value count method to get the frequency of each city required to compare amongst them.\n",
    "df6.pop('Singapore')\n",
    "df6.pop('USA')\n",
    "df6.pop('US')\n",
    "df6.pop('Missourie')\n",
    "df6.pop('Seattle')\n",
    "df6.pop('New York')\n",
    "df6.pop('SFO')\n",
    "df6.pop('London')\n",
    "df6.pop('Dallas')\n",
    "df6.pop('India')\n",
    "df6.pop('Kerala')\n",
    "df6.pop('Boston')\n",
    "df6.pop('Goa')\n",
    "#removing all the extra values\n",
    "x=df6.index[0:5]\n",
    "\n",
    "y=df6.values[0:5]\n",
    "\n",
    "plt.bar(x,y)\n",
    "plt.xticks(rotation=45)\n",
    "plt.xlabel(\"Cities\")\n",
    "plt.ylabel(\"Number of fundings\")\n",
    "plt.title(\"City vs number of fundings\")\n",
    "plt.show()\n",
    "#plotting a bar graph of City and its relation with number of fundings\n",
    "\n",
    "for i in range(0,5):\n",
    "    print(x[i],y[i])\n",
    "    \n",
    "\n",
    "\n"
   ]
  },
  {
   "cell_type": "code",
   "execution_count": null,
   "metadata": {},
   "outputs": [],
   "source": []
  },
  {
   "cell_type": "code",
   "execution_count": null,
   "metadata": {},
   "outputs": [],
   "source": []
  }
 ],
 "metadata": {
  "kernelspec": {
   "display_name": "Python 3",
   "language": "python",
   "name": "python3"
  },
  "language_info": {
   "codemirror_mode": {
    "name": "ipython",
    "version": 3
   },
   "file_extension": ".py",
   "mimetype": "text/x-python",
   "name": "python",
   "nbconvert_exporter": "python",
   "pygments_lexer": "ipython3",
   "version": "3.8.3"
  }
 },
 "nbformat": 4,
 "nbformat_minor": 4
}
